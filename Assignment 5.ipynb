{
 "cells": [
  {
   "cell_type": "raw",
   "id": "86eb815f-4896-4a18-ac0e-0fd8d76fe521",
   "metadata": {},
   "source": [
    "1.What does an empty dictionary's code look like?\n",
    "\n",
    "         Two curly brackets: {}"
   ]
  },
  {
   "cell_type": "code",
   "execution_count": 1,
   "id": "d617f669-c390-4d85-ad89-2bfda9782c63",
   "metadata": {},
   "outputs": [
    {
     "data": {
      "text/plain": [
       "dict"
      ]
     },
     "execution_count": 1,
     "metadata": {},
     "output_type": "execute_result"
    }
   ],
   "source": [
    "dict = {}\n",
    "type(dict)"
   ]
  },
  {
   "cell_type": "raw",
   "id": "d26e1b3a-4715-42dc-8c33-67c1cad78a54",
   "metadata": {},
   "source": [
    "2. What is the value of a dictionary value with the key 'foo' & the value 42?"
   ]
  },
  {
   "cell_type": "code",
   "execution_count": 1,
   "id": "97790b96-8b7c-4ba2-9e6f-9c7e7b200874",
   "metadata": {},
   "outputs": [
    {
     "name": "stdout",
     "output_type": "stream",
     "text": [
      "{'foo': 42}\n"
     ]
    }
   ],
   "source": [
    "d = {\"foo\" : 42 }\n",
    "print(d)"
   ]
  },
  {
   "cell_type": "raw",
   "id": "1e3de042-dccc-4f13-95a7-c88743621c71",
   "metadata": {},
   "source": [
    "3. What is the most significant distinction between a dictionary and a list?\n",
    "\n",
    "        The elements in a list are ordered, and the elements in a dictionary aren't.\n",
    "Also, elements in a list must be accessed using numerical indices. Elements in a dictionary are indexed using keys, which can have different data types. \n"
   ]
  },
  {
   "cell_type": "raw",
   "id": "948c8334-9c4e-4c21-a7f4-2d434e85a554",
   "metadata": {},
   "source": [
    "4. What happens if you try to access spam['foo'] if spam is {'bar': 100}?\n",
    "\n",
    "         You will get a KeyError error."
   ]
  },
  {
   "cell_type": "code",
   "execution_count": 2,
   "id": "5502eb08-e969-45c8-8ae1-3504b9c51990",
   "metadata": {},
   "outputs": [
    {
     "ename": "KeyError",
     "evalue": "'foo'",
     "output_type": "error",
     "traceback": [
      "\u001b[0;31m---------------------------------------------------------------------------\u001b[0m",
      "\u001b[0;31mKeyError\u001b[0m                                  Traceback (most recent call last)",
      "Cell \u001b[0;32mIn [2], line 2\u001b[0m\n\u001b[1;32m      1\u001b[0m spam \u001b[38;5;241m=\u001b[39m {\u001b[38;5;124m'\u001b[39m\u001b[38;5;124mbar\u001b[39m\u001b[38;5;124m'\u001b[39m:\u001b[38;5;241m100\u001b[39m}\n\u001b[0;32m----> 2\u001b[0m \u001b[43mspam\u001b[49m\u001b[43m[\u001b[49m\u001b[38;5;124;43m'\u001b[39;49m\u001b[38;5;124;43mfoo\u001b[39;49m\u001b[38;5;124;43m'\u001b[39;49m\u001b[43m]\u001b[49m\n",
      "\u001b[0;31mKeyError\u001b[0m: 'foo'"
     ]
    }
   ],
   "source": [
    "spam = {'bar':100}\n",
    "spam['foo']\n",
    "#This will give us key error"
   ]
  },
  {
   "cell_type": "raw",
   "id": "908c422f-130c-4ba0-a75c-75ab2c8e1a55",
   "metadata": {},
   "source": [
    "5. If a dictionary is stored in spam, what is the difference between the expressions 'cat' in spam and\n",
    "'cat' in spam.keys()?   \n",
    "\n",
    "      There is no difference, the expression \" 'cat' in spam \" checks whether 'cat' is a key in spam.\n"
   ]
  },
  {
   "cell_type": "code",
   "execution_count": 3,
   "id": "ae6898ca-ceca-4896-afb2-8db6249ebdfd",
   "metadata": {},
   "outputs": [
    {
     "data": {
      "text/plain": [
       "True"
      ]
     },
     "execution_count": 3,
     "metadata": {},
     "output_type": "execute_result"
    }
   ],
   "source": [
    "spam ={'cat':100}\n",
    "'cat' in spam"
   ]
  },
  {
   "cell_type": "code",
   "execution_count": 4,
   "id": "6d3707ea-db79-4843-a04b-e15a84671890",
   "metadata": {},
   "outputs": [
    {
     "data": {
      "text/plain": [
       "True"
      ]
     },
     "execution_count": 4,
     "metadata": {},
     "output_type": "execute_result"
    }
   ],
   "source": [
    "'cat' in spam.keys()\n",
    "#There is no differnce, both check if 'cat' is key of the dictionary and if its a key, returns True."
   ]
  },
  {
   "cell_type": "raw",
   "id": "570cb7fd-327b-4f00-a7e0-c892b9cc6000",
   "metadata": {},
   "source": [
    "6. If a dictionary is stored in spam, what is the difference between the expressions 'cat' in spam and\n",
    "'cat' in spam.values()?\n",
    "\n",
    "         'cat' in spam checks whether'cat' exists as a key in spam. \n",
    "         'cat' in spam.values() checks whether 'cat' is a value in spam.\n"
   ]
  },
  {
   "cell_type": "code",
   "execution_count": 1,
   "id": "c858678f-ea46-49a8-a53d-7a64eafd6346",
   "metadata": {},
   "outputs": [
    {
     "data": {
      "text/plain": [
       "True"
      ]
     },
     "execution_count": 1,
     "metadata": {},
     "output_type": "execute_result"
    }
   ],
   "source": [
    "spam ={'cat':100}\n",
    "'cat' in spam\n",
    "     "
   ]
  },
  {
   "cell_type": "code",
   "execution_count": 2,
   "id": "bc8d8505-3e39-4c16-9bb8-0576a81f2525",
   "metadata": {},
   "outputs": [
    {
     "data": {
      "text/plain": [
       "False"
      ]
     },
     "execution_count": 2,
     "metadata": {},
     "output_type": "execute_result"
    }
   ],
   "source": [
    "spam ={'cat':100}\n",
    "'cat' in spam.values()"
   ]
  },
  {
   "cell_type": "raw",
   "id": "575bb4cc-f6c0-49c8-b2ab-cab48c4dda60",
   "metadata": {},
   "source": [
    "7. What is a shortcut for the following code?\n",
    "if 'color' not in spam:\n",
    "spam['color'] = 'black'\n",
    "\n",
    "     spam.setdefault('color','black')"
   ]
  },
  {
   "cell_type": "code",
   "execution_count": 3,
   "id": "c7d45607-0533-4411-8aa7-5001edbf0bdb",
   "metadata": {},
   "outputs": [
    {
     "data": {
      "text/plain": [
       "{'cat': 100, 'color': 'black'}"
      ]
     },
     "execution_count": 3,
     "metadata": {},
     "output_type": "execute_result"
    }
   ],
   "source": [
    "spam ={'cat':100}\n",
    "spam.setdefault('color','black')\n",
    "spam"
   ]
  },
  {
   "cell_type": "raw",
   "id": "589aaf40-978e-48ab-8b68-4409a671ee61",
   "metadata": {},
   "source": [
    "8. How do you \"pretty print\" dictionary values using which module and function?\n",
    "\n",
    "      The module is pprint.\n",
    "      The functions are pprint.pprint() and pprint.pformat().\n"
   ]
  },
  {
   "cell_type": "code",
   "execution_count": 3,
   "id": "519427ac-cddf-4c46-b409-346afb9d693a",
   "metadata": {},
   "outputs": [],
   "source": [
    "import pprint\n",
    "\n",
    "dct = [ {'Name': 'Brillia', 'Age': '33', 'Country': 'India'},\n",
    "  {'Name': 'Asha', 'Age': '36', 'Country': 'Japan'},\n",
    "]"
   ]
  },
  {
   "cell_type": "code",
   "execution_count": 4,
   "id": "64284505-7fd2-4cec-8e16-6eb6423d9813",
   "metadata": {},
   "outputs": [
    {
     "name": "stdout",
     "output_type": "stream",
     "text": [
      "[{'Age': '33', 'Country': 'India', 'Name': 'Brillia'},\n",
      " {'Age': '36', 'Country': 'Japan', 'Name': 'Asha'}]\n"
     ]
    }
   ],
   "source": [
    "pprint.pprint(dct)"
   ]
  },
  {
   "cell_type": "code",
   "execution_count": 6,
   "id": "66195829-a778-407b-9f5e-57fc9fedf42d",
   "metadata": {},
   "outputs": [
    {
     "name": "stdout",
     "output_type": "stream",
     "text": [
      "[{'Name': 'Brillia', 'Age': '33', 'Country': 'India'}, {'Name': 'Asha', 'Age': '36', 'Country': 'Japan'}]\n"
     ]
    }
   ],
   "source": [
    "print(dct)"
   ]
  },
  {
   "cell_type": "code",
   "execution_count": null,
   "id": "d18fd545-b58b-4e96-ae12-0fafcefc7a27",
   "metadata": {},
   "outputs": [],
   "source": []
  }
 ],
 "metadata": {
  "kernelspec": {
   "display_name": "Python 3 (ipykernel)",
   "language": "python",
   "name": "python3"
  },
  "language_info": {
   "codemirror_mode": {
    "name": "ipython",
    "version": 3
   },
   "file_extension": ".py",
   "mimetype": "text/x-python",
   "name": "python",
   "nbconvert_exporter": "python",
   "pygments_lexer": "ipython3",
   "version": "3.10.6"
  }
 },
 "nbformat": 4,
 "nbformat_minor": 5
}
